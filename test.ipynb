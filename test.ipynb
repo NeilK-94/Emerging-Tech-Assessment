{
 "cells": [
  {
   "cell_type": "markdown",
   "metadata": {},
   "source": [
    "# A test model made differently to the main model\n",
    "I did this to try and see whether the problem was with my model or with my code on the server. I still get the same problem when using a model made by this network however so the problem must be on the server"
   ]
  },
  {
   "cell_type": "code",
   "execution_count": 2,
   "metadata": {},
   "outputs": [
    {
     "name": "stderr",
     "output_type": "stream",
     "text": [
      "Using TensorFlow backend.\n"
     ]
    }
   ],
   "source": [
    "import numpy as np\n",
    "import pandas as pd\n",
    "import matplotlib.pyplot as plt\n",
    "import keras as kr\n",
    "from keras.datasets import mnist"
   ]
  },
  {
   "cell_type": "code",
   "execution_count": 4,
   "metadata": {},
   "outputs": [
    {
     "name": "stdout",
     "output_type": "stream",
     "text": [
      "One hot vector at index 5  [0. 0. 0. 0. 0. 0. 0. 0. 0. 1.]\n"
     ]
    }
   ],
   "source": [
    "\n",
    "(train_img, train_lbl), (test_img, test_lbl) = mnist.load_data()\n",
    "\n",
    "(train_images, train_labels), (test_images, test_labels) = kr.datasets.mnist.load_data()\n",
    "\n",
    "train_img = train_img.reshape(60000, 784)\n",
    "train_img = train_img.astype('float32')\n",
    "train_img= train_img/255\n",
    "test_img = test_img.reshape(10000, 784)\n",
    "\n",
    "test_img= test_img/255\n",
    "\n",
    "test_img = test_img.astype('float32')\n",
    "\n",
    "total_Digits= 10\n",
    "# convert the labels to one hot vectors \n",
    "train_lbl = kr.utils.np_utils.to_categorical(train_lbl, total_Digits)\n",
    "test_lbl = kr.utils.np_utils.to_categorical(test_lbl, total_Digits)\n",
    "\n",
    "print(\"One hot vector at index 5 \", train_lbl[4])"
   ]
  },
  {
   "cell_type": "code",
   "execution_count": 18,
   "metadata": {},
   "outputs": [
    {
     "name": "stdout",
     "output_type": "stream",
     "text": [
      "Value of training label at index 0: 5\n",
      "One hot Vector of training label at index 0: [0. 0. 0. 0. 0. 1. 0. 0. 0. 0.]\n"
     ]
    },
    {
     "data": {
      "image/png": "[encoded data removed]",
      "text/plain": [
       "<Figure size 432x288 with 1 Axes>"
      ]
     },
     "metadata": {
      "needs_background": "light"
     },
     "output_type": "display_data"
    }
   ],
   "source": [
    "# displaying the training images and labels\n",
    "image= train_img[0]\n",
    "\n",
    "plt.imshow(image.reshape(28,28), cmap=\"gray\")\n",
    "print(\"Value of training label at index 0:\", train_labels[0])\n",
    "print(\"One hot Vector of training label at index 0:\", train_lbl[0])"
   ]
  },
  {
   "cell_type": "code",
   "execution_count": 16,
   "metadata": {},
   "outputs": [],
   "source": [
    "\n",
    "model = kr.models.Sequential()\n",
    "\n",
    "#this layer gets inputs\n",
    "\n",
    "model.add(kr.layers.Dense(600, activation='relu', input_shape=(784,)))\n",
    "\n",
    "model.add(kr.layers.Dense(400, activation=\"relu\"))\n",
    "\n",
    "model.add(kr.layers.Dense(10, activation=\"softmax\"))\n",
    "\n",
    "model.compile(loss=\"categorical_crossentropy\", optimizer=\"adam\", metrics=[\"accuracy\"])"
   ]
  },
  {
   "cell_type": "code",
   "execution_count": 17,
   "metadata": {},
   "outputs": [
    {
     "name": "stdout",
     "output_type": "stream",
     "text": [
      "Epoch 1/1\n",
      "60000/60000 [==============================] - 9s 147us/step - loss: 0.2645 - accuracy: 0.9246\n"
     ]
    },
    {
     "data": {
      "text/plain": [
       "<keras.callbacks.callbacks.History at 0x2dd54b04448>"
      ]
     },
     "execution_count": 17,
     "metadata": {},
     "output_type": "execute_result"
    }
   ],
   "source": [
    "model.fit(inputs, outputs, epochs=1, batch_size=256, verbose=1)"
   ]
  },
  {
   "cell_type": "code",
   "execution_count": 13,
   "metadata": {},
   "outputs": [
    {
     "name": "stdout",
     "output_type": "stream",
     "text": [
      "10000/10000 [==============================] - 1s 148us/step\n",
      "10000/10000 [==============================] - 1s 129us/step\n",
      "0.08388623963911482 0.980400025844574\n",
      "accuracy: 98.04%\n"
     ]
    }
   ],
   "source": [
    "loss, accuracy = model.evaluate(test_img, test_lbl)\n",
    "score = model.evaluate(test_img, test_lbl)\n",
    "print(loss, accuracy)\n",
    "print(\"%s: %.2f%%\" % (model.metrics_names[1], score[1]*100))"
   ]
  },
  {
   "cell_type": "code",
   "execution_count": 12,
   "metadata": {},
   "outputs": [
    {
     "name": "stdout",
     "output_type": "stream",
     "text": [
      "[[1.0453385e-09 1.2258569e-10 6.0631827e-10 1.8120566e-12 9.9873573e-01\n",
      "  3.2140186e-11 5.8699100e-12 1.6531230e-07 6.1696803e-10 1.2641629e-03]]\n",
      "4\n"
     ]
    },
    {
     "data": {
      "image/png": "[encoded data removed]",
      "text/plain": [
       "<Figure size 432x288 with 1 Axes>"
      ]
     },
     "metadata": {
      "needs_background": "light"
     },
     "output_type": "display_data"
    }
   ],
   "source": [
    "image= test_img[4]\n",
    "plt.imshow(image.reshape(28,28),cmap=\"gray\")\n",
    "\n",
    "print(model.predict(test_img[4:5]))\n",
    "\n",
    "print(np.argmax(model.predict(test_img[4:5])))"
   ]
  },
  {
   "cell_type": "code",
   "execution_count": 11,
   "metadata": {},
   "outputs": [],
   "source": [
    "model.save(\"testmodel.h5\")"
   ]
  },
  {
   "cell_type": "code",
   "execution_count": null,
   "metadata": {},
   "outputs": [],
   "source": []
  }
 ],
 "metadata": {
  "kernelspec": {
   "display_name": "Python 3",
   "language": "python",
   "name": "python3"
  },
  "language_info": {
   "codemirror_mode": {
    "name": "ipython",
    "version": 3
   },
   "file_extension": ".py",
   "mimetype": "text/x-python",
   "name": "python",
   "nbconvert_exporter": "python",
   "pygments_lexer": "ipython3",
   "version": "3.7.4"
  }
 },
 "nbformat": 4,
 "nbformat_minor": 2
}
